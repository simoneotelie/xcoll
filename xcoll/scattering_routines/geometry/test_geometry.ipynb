{
 "cells": [
  {
   "cell_type": "code",
   "execution_count": 32,
   "metadata": {},
   "outputs": [
    {
     "name": "stdout",
     "output_type": "stream",
     "text": [
      "The autoreload extension is already loaded. To reload it, use:\n",
      "  %reload_ext autoreload\n"
     ]
    }
   ],
   "source": [
    "%load_ext autoreload\n",
    "%autoreload 2\n",
    "# %load_ext wurlitzer\n",
    "%matplotlib ipympl\n",
    "\n",
    "import numpy as np\n",
    "import xobjects as xo\n",
    "from xcoll.scattering_routines.geometry.segments import *\n",
    "from xcoll.scattering_routines.geometry.c_init import *\n",
    "from xcoll.scattering_routines.geometry.segments.trajectories import get_max_crossings\n",
    "\n",
    "import xcoll as xc\n",
    "\n",
    "import matplotlib.pyplot as plt\n",
    "from ipywidgets import interact, interactive, fixed, interact_manual\n",
    "import ipywidgets as widgets"
   ]
  },
  {
   "cell_type": "code",
   "execution_count": 40,
   "metadata": {},
   "outputs": [
    {
     "name": "stdout",
     "output_type": "stream",
     "text": [
      "Compiling ContextCpu kernels...\n",
      "Done compiling ContextCpu kernels.\n"
     ]
    }
   ],
   "source": [
    "context = xo.ContextCpu()\n",
    "\n",
    "context.add_kernels(\n",
    "    kernels={\n",
    "        \"Segments_crossing_drift\": xo.Kernel(\n",
    "            c_name=\"Segments_crossing_drift\",\n",
    "            args=[\n",
    "                xo.Arg(Segments,   name=\"segs\"),\n",
    "                xo.Arg(xo.Int8,    pointer=True, name=\"n_hit\"),\n",
    "                xo.Arg(xo.Float64, pointer=True,  name=\"s\"),\n",
    "                xo.Arg(xo.Float64, pointer=False, name=\"s0\"),\n",
    "                xo.Arg(xo.Float64, pointer=False, name=\"x0\"),\n",
    "                xo.Arg(xo.Float64, pointer=False, name=\"m\")\n",
    "            ],\n",
    "            ret=None,\n",
    "        )\n",
    "    }, save_source_as=\"temp.c\"\n",
    ")"
   ]
  },
  {
   "cell_type": "code",
   "execution_count": 56,
   "metadata": {},
   "outputs": [],
   "source": [
    "def check_segments_drift(segs, plot_object=False, xlim=(-0.5, 1.5), ylim=(-0.5, 1.5)):\n",
    "    to_remove = []\n",
    "    s_val = np.linspace(*xlim, 200)\n",
    "    fig, ax = plt.subplots(1, 1, figsize=(4*(xlim[1]-xlim[0]),2.8*(ylim[1]-ylim[0])))\n",
    "    if plot_object:\n",
    "        t = np.linspace(-4, 4, 4000)\n",
    "        ax.scatter(*segs.evaluate(t), s=1)\n",
    "    ax.set_xlim(xlim)\n",
    "    ax.set_ylim(ylim)\n",
    "    ax.set_aspect('equal')\n",
    "\n",
    "    n_hit = np.zeros(1, dtype=np.int8)\n",
    "    s = np.zeros(get_max_crossings(segs, \"drift\"), dtype=np.float64)\n",
    "    # s = np.zeros(8, dtype=np.float64)\n",
    "\n",
    "    def update_plot(s0, x0, part_theta):\n",
    "        # Clean the previous trajectory and points\n",
    "        while to_remove:\n",
    "            last_point = to_remove.pop()  # Get the last added point\n",
    "            last_point.remove()\n",
    "        m = np.tan(np.radians(part_theta))\n",
    "        # Draw drift trajectory and point\n",
    "        spread = 10 # degrees\n",
    "        line, = ax.plot(s_val, m*(s_val - s0) + x0, c='k')\n",
    "        to_remove.append(line)\n",
    "        scatter = ax.scatter(s0, x0, c='r', s=20)\n",
    "        to_remove.append(scatter)\n",
    "        m1 = np.tan(np.radians(part_theta+spread))\n",
    "        m2 = np.tan(np.radians(part_theta-spread))\n",
    "        line = ax.fill_between(s_val, m1*(s_val - s0) + x0, m2*(s_val - s0) + x0, alpha=0.2)\n",
    "        to_remove.append(line)\n",
    "        # Create hits for different slopes (small cone around the trajectory)\n",
    "        hits_s = []\n",
    "        hits_x = []\n",
    "        for sp in np.linspace(-spread, spread, 100):\n",
    "            n_hit[0] = 0\n",
    "            m = np.tan(np.radians(part_theta + sp))\n",
    "            context.kernels.Segments_crossing_drift(segs=segs, n_hit=n_hit, s=s, s0=s0, x0=x0, m=m)\n",
    "            hits_s += list(s[:n_hit[0]])\n",
    "            hits_x += list(x0 + m*(s[:n_hit[0]] - s0))\n",
    "        # for i in range(n_hit[0]):\n",
    "        scatter = ax.scatter(hits_s, hits_x, c='g', s=5)\n",
    "        # to_remove.append(scatter)\n",
    "        fig.canvas.draw()  # Redraw the canvas to show the new point\n",
    "\n",
    "\n",
    "    def onclick(event):\n",
    "        s0, x0 = event.xdata, event.ydata\n",
    "        if s0 is not None and x0 is not None:  # Ensure the click is inside the plot\n",
    "            update_plot(s0, x0, part_theta_slider.value)\n",
    "\n",
    "\n",
    "    fig.canvas.mpl_connect('button_press_event', onclick)\n",
    "    part_theta_slider = widgets.IntSlider(min=-89, max=89, step=1, value=0)\n",
    "\n",
    "    @interact(part_theta=part_theta_slider)\n",
    "    def check_linesegments(part_theta):\n",
    "        if to_remove:\n",
    "            scatter = to_remove[1]  # The second point is the clicked scatter point\n",
    "            s0, x0 = scatter.get_offsets()[0, 0], scatter.get_offsets()[0, 1]\n",
    "\n",
    "            # Update the plot with the new slope based on the slider\n",
    "            update_plot(s0, x0, part_theta)\n",
    "\n",
    "# plt.show()\n",
    "\n",
    "# check_linesegments()"
   ]
  },
  {
   "cell_type": "code",
   "execution_count": null,
   "metadata": {},
   "outputs": [],
   "source": [
    "this_box = Segments(data=[LineSegment(s1=0, x1=0, s2=0.2, x2=1), LineSegment(s1=0.2, x1=1, s2=1, x2=1),\n",
    "                          LineSegment(s1=1, x1=1, s2=0.8, x2=0), LineSegment(s1=0.8, x1=0, s2=0, x2=0)])\n",
    "\n",
    "check_segments_drift(this_box, plot_object=True)"
   ]
  },
  {
   "cell_type": "code",
   "execution_count": null,
   "metadata": {},
   "outputs": [],
   "source": [
    "this_box_2 = Segments(data=[LineSegment(s1=0, x1=0, s2=0.2, x2=1),\n",
    "                            BezierSegment(s1=0.2, x1=1, s2=1+0.5*np.cos(3*np.pi/4), x2=0.5+0.5*np.sin(3*np.pi/4), cs1=0.5, cx1=2.5, cs2=1+0.5*np.cos(3*np.pi/4)-0.6, cx2=0.5+0.5*np.sin(3*np.pi/4)-0.6),\n",
    "                            CircularSegment(R=0.5, s=1, x=0.5, t1=-np.pi/2, t2=3*np.pi/4),\n",
    "                            LineSegment(s1=1, x1=0, s2=0, x2=0),\n",
    "                            HalfOpenLineSegment(s=2, x=1, t=np.pi/4),\n",
    "                            LineSegment(s1=2, x1=1, s2=3, x2=0),\n",
    "                            HalfOpenLineSegment(s=3, x=0, t=np.pi/4)])\n",
    "check_segments_drift(this_box_2, xlim=(-0.5, 4), ylim=(-0.5,2), plot_object=True)"
   ]
  },
  {
   "cell_type": "code",
   "execution_count": null,
   "metadata": {},
   "outputs": [],
   "source": [
    "seg = CircularSegment(R=1, s=0., x=0., t1=0,        t2=np.pi/2)\n",
    "seg = CircularSegment(R=1, s=0., x=0., t1=-np.pi/2, t2=np.pi/2)\n",
    "seg = CircularSegment(R=1, s=0., x=0., t1=np.pi/2,  t2=-np.pi/2)\n",
    "seg = CircularSegment(R=1, s=0., x=0., t1=0,        t2=3*np.pi/2)\n",
    "seg = CircularSegment(R=1, s=0., x=0., t1=0,        t2=2*np.pi)\n",
    "seg = CircularSegment(R=1, s=0., x=0., t1=0,        t2=-np.pi/2)\n",
    "seg = CircularSegment(R=1, s=0., x=0., t1=-np.pi/2, t2=0)\n",
    "seg = CircularSegment(R=1, s=0., x=0., t1=3*np.pi/2,t2=0)\n",
    "\n",
    "check_segments_drift(Segments(data=[seg]), plot_object=True, xlim=(-1.5, 1.5), ylim=(-1.5, 1.5))"
   ]
  }
 ],
 "metadata": {
  "kernelspec": {
   "display_name": "xcoll",
   "language": "python",
   "name": "python3"
  },
  "language_info": {
   "codemirror_mode": {
    "name": "ipython",
    "version": 3
   },
   "file_extension": ".py",
   "mimetype": "text/x-python",
   "name": "python",
   "nbconvert_exporter": "python",
   "pygments_lexer": "ipython3",
   "version": "3.11.9"
  }
 },
 "nbformat": 4,
 "nbformat_minor": 2
}
