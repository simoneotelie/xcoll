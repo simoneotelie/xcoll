{
 "cells": [
  {
   "cell_type": "code",
   "execution_count": 1,
   "metadata": {},
   "outputs": [],
   "source": [
    "import numpy as np\n",
    "import matplotlib.pyplot as plt\n",
    "from matplotlib.widgets import Slider\n",
    "import xcoll.geometry.trajectories as tr\n",
    "import xcoll.geometry.segments as seg\n",
    "# %matplotlib ipympl\n",
    "%matplotlib tk\n",
    "\n",
    "# s0 = 0.1\n",
    "# x0 = 1\n",
    "# xp = np.tan(np.deg2rad(30.))\n",
    "\n",
    "# ran_1 = np.random.normal()\n",
    "# ran_2 = np.random.normal()\n",
    "\n",
    "# drift = tr.DriftTrajectory(s0=s0, x0=x0, xp=xp)\n",
    "# circ = tr.CircularTrajectory(s0=s0, x0=x0, sR=-1, xR=2)\n",
    "# mcs = tr.MultipleCoulombTrajectory(s0=s0, x0=x0, xp=xp, pc=1e9, beta=1/np.sqrt(1+1.), q=1,X0=0.1, ran_1=ran_1, ran_2=ran_2)"
   ]
  },
  {
   "cell_type": "markdown",
   "metadata": {},
   "source": [
    "# Trajectory Tests"
   ]
  },
  {
   "cell_type": "code",
   "execution_count": 4,
   "metadata": {},
   "outputs": [],
   "source": [
    "kwargs = {'sR': [-3, 3, 0.2], 'xR': [-3, 3, -0.3], 's0': [-2, 2, 0], 'x0': [-2, 2, 0]}\n",
    "tr.CircularTrajectory._inspect(**kwargs)"
   ]
  },
  {
   "cell_type": "code",
   "execution_count": 2,
   "metadata": {},
   "outputs": [
    {
     "name": "stdout",
     "output_type": "stream",
     "text": [
      "Compiling ContextCpu kernels...\n",
      "Done compiling ContextCpu kernels.\n"
     ]
    }
   ],
   "source": [
    "kwargs = {'s0': [-3, 3, 0], 'x0': [-3, 3, 0], 'xp': [np.deg2rad(-45), np.deg2rad(45), np.deg2rad(0.5)]}\n",
    "\n",
    "tr.DriftTrajectory._inspect(**kwargs)"
   ]
  },
  {
   "cell_type": "code",
   "execution_count": 3,
   "metadata": {},
   "outputs": [],
   "source": [
    "fig, _ =  tr.CircularTrajectory(s0=0, x0=-1, sR=0, xR=0).plot(l1=-0.5, l2=np.pi/2-0.01)\n"
   ]
  },
  {
   "cell_type": "markdown",
   "metadata": {},
   "source": [
    "# Segment Tests"
   ]
  },
  {
   "cell_type": "code",
   "execution_count": null,
   "metadata": {},
   "outputs": [],
   "source": [
    "kwargs = {'s1': [-3, 3, 0], 'x1': [-3, 3, 0], 's2': [-3, 3, 1], 'x2': [-3, 3, 1]}\n",
    "\n",
    "seg.LineSegment._inspect(**kwargs)"
   ]
  },
  {
   "cell_type": "code",
   "execution_count": null,
   "metadata": {},
   "outputs": [],
   "source": [
    "kwargs = {'s1': [-3, 3, 0], 'x1': [-3, 3, 0], 'theta1': [-2*np.pi, 2*np.pi, np.pi/3]}\n",
    "\n",
    "seg.HalfOpenLineSegment._inspect(**kwargs)"
   ]
  },
  {
   "cell_type": "code",
   "execution_count": 5,
   "metadata": {},
   "outputs": [
    {
     "name": "stdout",
     "output_type": "stream",
     "text": [
      "Compiling ContextCpu kernels...\n",
      "Done compiling ContextCpu kernels.\n"
     ]
    }
   ],
   "source": [
    "kwargs = {'R': [0.1, 3, 1.2], 'sR': [-3, 3, 0.2], 'xR': [-3, 3, -0.3],\n",
    "          'theta1': [-2*np.pi, 2*np.pi, -np.pi/3], 'theta2': [-2*np.pi, 2*np.pi, np.pi/3],}\n",
    "\n",
    "seg.CircularSegment._inspect(**kwargs)\n",
    "# 1. Providing the centre, radius, and angles: CircularSegment(R=..., sR=..., xR=..., theta1=..., theta2=...)\n",
    "# 2. Providing the start point, radius, and angles: CircularSegment(R=..., s1=..., x1=..., theta1=..., theta2=...)\n",
    "# 3. Providing the end point, radius, and angles: CircularSegment(R=..., s2=..., x2=..., theta1=..., theta2=...)\n",
    "# 4. Providing the start and end point, and the (possibly negative) curvature: CircularSegment(k=..., s1=..., x1=..., s2=..., x2=...)\n",
    "# 5. Providing the centre, start point, and an angular shift: CircularSegment(sR=..., xR=..., s1=..., x1=..., delta_theta=...)\n",
    "# 6. Providing the centre, end point, and an angular shift: CircularSegment(sR=..., xR=..., s2=..., x2=..., delta_theta=...)"
   ]
  },
  {
   "cell_type": "code",
   "execution_count": 3,
   "metadata": {},
   "outputs": [],
   "source": [
    "kwargs = {'R': [0.1, 3, 1.2], 's1': [-3, 3, 0.2], 'x1': [-3, 3, -0.3],\n",
    "          'theta1': [-2*np.pi, 2*np.pi, -np.pi/3], 'theta2': [-2*np.pi, 2*np.pi, np.pi/3],}\n",
    "\n",
    "seg.CircularSegment._inspect(**kwargs)"
   ]
  },
  {
   "cell_type": "code",
   "execution_count": 4,
   "metadata": {},
   "outputs": [],
   "source": [
    "kwargs = {'R': [0.1, 3, 1.2], 's2': [-3, 3, 0.2], 'x2': [-3, 3, -0.3],\n",
    "          'theta1': [-2*np.pi, 2*np.pi, -np.pi/3], 'theta2': [-2*np.pi, 2*np.pi, np.pi/3],}\n",
    "\n",
    "seg.CircularSegment._inspect(**kwargs)"
   ]
  },
  {
   "cell_type": "code",
   "execution_count": null,
   "metadata": {},
   "outputs": [],
   "source": [
    "kwargs = {'k': [-1, 1, 0.1], 's1': [-3, 3, 0.2], 'x1': [-3, 3, -0.3], 's2': [-3, 3, 0.7], 'x2': [-3, 3, 0.5]}\n",
    "\n",
    "# seg.CircularSegment._inspect(**kwargs)\n",
    "seg.CircularSegment._inspect(plot_bounding_box=False, plot_control_points=False, **kwargs)"
   ]
  },
  {
   "cell_type": "code",
   "execution_count": null,
   "metadata": {},
   "outputs": [],
   "source": [
    "kwargs = {'sR': [-3, 3, 0.2], 'xR': [-3, 3, -0.3], 's1': [-3, 3, 0.7], 'x1': [-3, 3, 0.5],\n",
    "          'delta_theta': [-2*np.pi, 2*np.pi, np.pi/3]}\n",
    "\n",
    "seg.CircularSegment._inspect(**kwargs)"
   ]
  },
  {
   "cell_type": "code",
   "execution_count": null,
   "metadata": {},
   "outputs": [],
   "source": [
    "kwargs = {'sR': [-3, 3, 0.2], 'xR': [-3, 3, -0.3], 's1': [-3, 3, 0.7], 'x1': [-3, 3, 0.5],\n",
    "          'delta_theta': [-2*np.pi, 2*np.pi, -np.pi/3]}"
   ]
  },
  {
   "cell_type": "code",
   "execution_count": null,
   "metadata": {},
   "outputs": [],
   "source": [
    "kwargs = {\n",
    "    's1': [-3, 3, 0],\n",
    "    'x1': [-3, 3, 0],\n",
    "    'cs1': [-3, 3, 0],\n",
    "    'cx1': [-3, 3, 1],\n",
    "    'cs2': [-3, 3, 1],\n",
    "    'cx2': [-3, 3, 0],\n",
    "    's2': [-3, 3, 1],\n",
    "    'x2': [-3, 3, 1],\n",
    "}\n",
    "\n",
    "seg.BezierSegment._inspect(**kwargs)"
   ]
  },
  {
   "cell_type": "markdown",
   "metadata": {},
   "source": [
    "# Shape"
   ]
  },
  {
   "cell_type": "code",
   "execution_count": 1,
   "metadata": {},
   "outputs": [],
   "source": [
    "%load_ext autoreload\n",
    "%autoreload 2\n",
    "# %load_ext wurlitzer\n",
    "%matplotlib ipympl\n",
    "\n",
    "import numpy as np\n",
    "import xobjects as xo\n",
    "\n",
    "import xcoll as xc\n",
    "from xcoll.geometry.segments import get_max_crossings\n",
    "from xcoll.geometry.trajectories import DriftTrajectory\n",
    "\n",
    "import matplotlib.pyplot as plt\n",
    "from ipywidgets import interact, interactive, fixed, interact_manual\n",
    "import ipywidgets as widgets"
   ]
  },
  {
   "cell_type": "code",
   "execution_count": 2,
   "metadata": {},
   "outputs": [],
   "source": [
    "def check_drift(shape, plot_object=False, xlim=(-0.5, 1.5), ylim=(-0.5, 1.5)):\n",
    "    to_remove = []\n",
    "    s_val = np.linspace(*xlim, 200)\n",
    "    fig, ax = plt.subplots(1, 1, figsize=(8,8))\n",
    "    if plot_object:\n",
    "        shape.plot(axes=ax)\n",
    "    ax.set_xlim(xlim)\n",
    "    ax.set_ylim(ylim)\n",
    "    ax.set_aspect('equal')\n",
    "\n",
    "    n_hit = np.zeros(1, dtype=np.int8)\n",
    "    s = np.zeros(get_max_crossings(shape, DriftTrajectory), dtype=np.float64)\n",
    "    # s = np.zeros(8, dtype=np.float64)\n",
    "\n",
    "    def update_plot(s0, x0, part_theta):\n",
    "        # Clean the previous trajectory and points\n",
    "        while to_remove:\n",
    "            last_point = to_remove.pop()  # Get the last added point\n",
    "            last_point.remove()\n",
    "        m = np.tan(np.radians(part_theta))\n",
    "        # Draw drift trajectory and point\n",
    "        spread = 10 # degrees\n",
    "        line, = ax.plot(s_val, m*(s_val - s0) + x0, c='k')\n",
    "        to_remove.append(line)\n",
    "        scatter = ax.scatter(s0, x0, c='r', s=20)\n",
    "        to_remove.append(scatter)\n",
    "        m1 = np.tan(np.radians(part_theta+spread))\n",
    "        m2 = np.tan(np.radians(part_theta-spread))\n",
    "        line = ax.fill_between(s_val, m1*(s_val - s0) + x0, m2*(s_val - s0) + x0, alpha=0.2)\n",
    "        to_remove.append(line)\n",
    "        # Create hits for different slopes (small cone around the trajectory)\n",
    "        hits_s = []\n",
    "        hits_x = []\n",
    "        for sp in np.linspace(-spread, spread, 100):\n",
    "            n_hit[0] = 0\n",
    "            m = np.tan(np.radians(part_theta + sp))\n",
    "            if isinstance(shape, xc.Shape2DV):\n",
    "                shape.crossing_drift(n_hit=n_hit, s=s, s0=s0, x0=x0, xm=m, y0=0, ym=0)\n",
    "            else:\n",
    "                shape.crossing_drift(n_hit=n_hit, s=s, s0=s0, x0=x0, xm=m)\n",
    "            hits_s += list(s[:n_hit[0]])\n",
    "            hits_x += list(x0 + m*(s[:n_hit[0]] - s0))\n",
    "        # for i in range(n_hit[0]):\n",
    "        scatter = ax.scatter(hits_s, hits_x, c='g', s=5)\n",
    "        # to_remove.append(scatter)\n",
    "        fig.canvas.draw()  # Redraw the canvas to show the new point\n",
    "\n",
    "\n",
    "    def onclick(event):\n",
    "        s0, x0 = event.xdata, event.ydata\n",
    "        if s0 is not None and x0 is not None:  # Ensure the click is inside the plot\n",
    "            update_plot(s0, x0, part_theta_slider.value)\n",
    "\n",
    "\n",
    "    fig.canvas.mpl_connect('button_press_event', onclick)\n",
    "    part_theta_slider = widgets.IntSlider(min=-89, max=89, step=1, value=0)\n",
    "\n",
    "    @interact(part_theta=part_theta_slider)\n",
    "    def check_linesegments(part_theta):\n",
    "        if to_remove:\n",
    "            scatter = to_remove[1]  # The second point is the clicked scatter point\n",
    "            s0, x0 = scatter.get_offsets()[0, 0], scatter.get_offsets()[0, 1]\n",
    "\n",
    "            # Update the plot with the new slope based on the slider\n",
    "            update_plot(s0, x0, part_theta)"
   ]
  },
  {
   "cell_type": "code",
   "execution_count": 3,
   "metadata": {},
   "outputs": [],
   "source": [
    "shape1 = xc.Shape2D([xc.LineSegment(s1=0, x1=0, s2=0.2, x2=1), xc.LineSegment(s1=0.2, x1=1, s2=1, x2=1),\n",
    "                     xc.LineSegment(s1=1, x1=1, s2=0.8, x2=0), xc.LineSegment(s1=0.8, x1=0, s2=0, x2=0)])\n",
    "shape2 = xc.Shape2D([xc.LineSegment(s1=0, x1=0, s2=0.2, x2=1),\n",
    "                     xc.BezierSegment(s1=0.2, x1=1, s2=1+0.5*np.cos(3*np.pi/4), x2=0.5+0.5*np.sin(3*np.pi/4), cs1=0.5, cx1=2.5, cs2=1+0.5*np.cos(3*np.pi/4)-0.6, cx2=0.5+0.5*np.sin(3*np.pi/4)-0.6),\n",
    "                     xc.CircularSegment(R=0.5, s=1, x=0.5, t1=-np.pi/2, t2=3*np.pi/4),\n",
    "                     xc.LineSegment(s1=1, x1=0, s2=0, x2=0),\n",
    "                     xc.HalfOpenLineSegment(s=2, x=1, t=np.pi/4),\n",
    "                     xc.LineSegment(s1=2, x1=1, s2=3, x2=0),\n",
    "                     xc.HalfOpenLineSegment(s=3, x=0, t=np.pi/4)])\n",
    "shape3 = xc.Shape2DV([xc.LineSegment(s1=0, x1=0, s2=0.2, x2=1),\n",
    "                      xc.BezierSegment(s1=0.2, x1=1, s2=1+0.5*np.cos(3*np.pi/4), x2=0.5+0.5*np.sin(3*np.pi/4), cs1=0.5, cx1=2.5, cs2=1+0.5*np.cos(3*np.pi/4)-0.6, cx2=0.5+0.5*np.sin(3*np.pi/4)-0.6),\n",
    "                      xc.CircularSegment(R=0.5, s=1, x=0.5, t1=-np.pi/2, t2=3*np.pi/4),\n",
    "                      xc.LineSegment(s1=1, x1=0, s2=0, x2=0),\n",
    "                      xc.HalfOpenLineSegment(s=2, x=1, t=np.pi/4),\n",
    "                      xc.LineSegment(s1=2, x1=1, s2=3, x2=0),\n",
    "                      xc.HalfOpenLineSegment(s=3, x=0, t=np.pi/4),\n",
    "                      xc.HalfOpenLineSegment(s=1.8, x=-0.5, t=5*np.pi/8),\n",
    "                      xc.CircularSegment(R=0.3, s=1.8-0.3*np.cos(np.pi/8), x=-0.5-0.3*np.sin(np.pi/8), t1=-7*np.pi/8, t2=np.pi/8),\n",
    "                      xc.HalfOpenLineSegment(s=1.8-0.6*np.cos(np.pi/8), x=-0.5-0.6*np.sin(np.pi/8), t=5*np.pi/8)],\n",
    "                     vlimit=[-0.1, 0.1])\n",
    "shape4 = xc.Shape2DV([xc.CircularSegment(R=1, s=0, x=0, t1=0, t2=2*np.pi/3),\n",
    "                      xc.CircularSegment(R=1, s=0, x=0, t1=2*np.pi/3, t2=4*np.pi/3),\n",
    "                      xc.CircularSegment(R=1, s=0, x=0, t1=4*np.pi/3, t2=2*np.pi)],\n",
    "                     vlimit=[-0.1, 0.1])\n",
    "R1 = 0.5\n",
    "R2 = 2\n",
    "t = np.arcsin(R1/R2)\n",
    "shape5 = xc.Shape2D([xc.CircularSegment(R=R1, s=0, x=0, t1=np.pi/2, t2=-np.pi/2),\n",
    "                     xc.CircularSegment(R=R2, s=-R2*np.cos(t), x=0, t1=-t, t2=t)])\n",
    "shape6 = xc.Shape2D([xc.HalfOpenLineSegment(s=0, x=0, t=np.pi/4),\n",
    "                     xc.HalfOpenLineSegment(s=0, x=0, t=-np.pi/4)])"
   ]
  },
  {
   "cell_type": "code",
   "execution_count": 6,
   "metadata": {},
   "outputs": [],
   "source": [
    "#This is meant to fail\n",
    "\n",
    "xc.Shape2D([xc.LineSegment(s1=0, x1=0, s2=0.2, x2=1), xc.LineSegment(s1=0.2, x1=1, s2=1, x2=1), xc.LineSegment(s1=0.2, x1=1, s2=1, x2=1),\n",
    "            xc.LineSegment(s1=1, x1=1, s2=0.8, x2=0), xc.LineSegment(s1=0.8, x1=0, s2=0, x2=0)]).get_vertices()"
   ]
  },
  {
   "cell_type": "code",
   "execution_count": null,
   "metadata": {},
   "outputs": [],
   "source": [
    "fig, _ = shape1.plot3d(); fig.show()\n",
    "fig, _ = shape2.plot3d(); fig.show()\n",
    "fig, _ = shape3.plot3d(); fig.show()\n",
    "fig, _ = shape4.plot3d(); fig.show()\n",
    "fig, _ = shape5.plot3d(); fig.show()\n",
    "fig, _ = shape6.plot3d(); fig.show()"
   ]
  },
  {
   "cell_type": "code",
   "execution_count": null,
   "metadata": {},
   "outputs": [],
   "source": [
    "shape_1 = xc.Shape2D([xc.LineSegment(s1=0, x1=0, s2=0.2, x2=1), xc.LineSegment(s1=0.2, x1=1, s2=1, x2=1),\n",
    "                     xc.LineSegment(s1=1, x1=1, s2=0.8, x2=0), xc.LineSegment(s1=0.8, x1=0, s2=0, x2=0)])\n",
    "\n",
    "check_drift(shape_1, plot_object=False)"
   ]
  },
  {
   "cell_type": "code",
   "execution_count": null,
   "metadata": {},
   "outputs": [],
   "source": [
    "shape_2 = xc.Shape2D([xc.LineSegment(s1=0, x1=0, s2=0.2, x2=1),\n",
    "                     xc.BezierSegment(s1=0.2, x1=1, s2=1+0.5*np.cos(3*np.pi/4), x2=0.5+0.5*np.sin(3*np.pi/4), cs1=0.5, cx1=2.5, cs2=1+0.5*np.cos(3*np.pi/4)-0.6, cx2=0.5+0.5*np.sin(3*np.pi/4)-0.6),\n",
    "                     xc.CircularSegment(R=0.5, s=1, x=0.5, t1=-np.pi/2, t2=3*np.pi/4),\n",
    "                     xc.LineSegment(s1=1, x1=0, s2=0, x2=0),\n",
    "                     xc.HalfOpenLineSegment(s=2, x=1, t=np.pi/4),\n",
    "                     xc.LineSegment(s1=2, x1=1, s2=3, x2=0),\n",
    "                     xc.HalfOpenLineSegment(s=3, x=0, t=np.pi/4)])\n",
    "check_drift(shape_2, xlim=(-0.5, 4), ylim=(-0.5,2), plot_object=True)"
   ]
  },
  {
   "cell_type": "code",
   "execution_count": null,
   "metadata": {},
   "outputs": [],
   "source": [
    "# seg = xc.CircularSegment(R=1, s=0., x=0., t1=0,        t2=np.pi/2)\n",
    "# seg = xc.CircularSegment(R=1, s=0., x=0., t1=-np.pi/2, t2=np.pi/2)\n",
    "# seg = xc.CircularSegment(R=1, s=0., x=0., t1=np.pi/2,  t2=-np.pi/2)\n",
    "# seg = xc.CircularSegment(R=1, s=0., x=0., t1=0,        t2=3*np.pi/2)\n",
    "# seg = xc.CircularSegment(R=1, s=0., x=0., t1=0,        t2=2*np.pi)\n",
    "# seg = xc.CircularSegment(R=1, s=0., x=0., t1=0,        t2=-np.pi/2)\n",
    "# seg = xc.CircularSegment(R=1, s=0., x=0., t1=-np.pi/2, t2=0)\n",
    "seg = xc.CircularSegment(R=1, s=0., x=0., t1=3*np.pi/2,t2=0)\n",
    "\n",
    "check_drift(xc.Shape2D([seg]), plot_object=True, xlim=(-1.5, 1.5), ylim=(-1.5, 1.5))"
   ]
  },
  {
   "cell_type": "code",
   "execution_count": null,
   "metadata": {},
   "outputs": [],
   "source": [
    "shape_3 = xc.Shape2DV([xc.LineSegment(s1=0, x1=0, s2=0.2, x2=1),\n",
    "                      xc.BezierSegment(s1=0.2, x1=1, s2=1+0.5*np.cos(3*np.pi/4), x2=0.5+0.5*np.sin(3*np.pi/4), cs1=0.5, cx1=2.5, cs2=1+0.5*np.cos(3*np.pi/4)-0.6, cx2=0.5+0.5*np.sin(3*np.pi/4)-0.6),\n",
    "                      xc.CircularSegment(R=0.5, s=1, x=0.5, t1=-np.pi/2, t2=3*np.pi/4),\n",
    "                      xc.LineSegment(s1=1, x1=0, s2=0, x2=0),\n",
    "                      xc.HalfOpenLineSegment(s=2, x=1, t=np.pi/4),\n",
    "                      xc.LineSegment(s1=2, x1=1, s2=3, x2=0),\n",
    "                      xc.HalfOpenLineSegment(s=3, x=0, t=np.pi/4)],\n",
    "                    vlimit=[-0.1, 0.1])\n",
    "check_drift(shape_3, xlim=(-0.5, 4), ylim=(-0.5,2), plot_object=True)"
   ]
  }
 ],
 "metadata": {
  "kernelspec": {
   "display_name": "xsuite",
   "language": "python",
   "name": "python3"
  },
  "language_info": {
   "codemirror_mode": {
    "name": "ipython",
    "version": 3
   },
   "file_extension": ".py",
   "mimetype": "text/x-python",
   "name": "python",
   "nbconvert_exporter": "python",
   "pygments_lexer": "ipython3",
   "version": "3.10.16"
  }
 },
 "nbformat": 4,
 "nbformat_minor": 2
}
