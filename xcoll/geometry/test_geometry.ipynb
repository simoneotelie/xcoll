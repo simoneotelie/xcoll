{
 "cells": [
  {
   "cell_type": "code",
   "execution_count": null,
   "metadata": {},
   "outputs": [],
   "source": [
    "import numpy as np\n",
    "import matplotlib.pyplot as plt\n",
    "from matplotlib.widgets import Slider\n",
    "import xcoll.geometry.trajectories as tr\n",
    "import xcoll.geometry.segments as seg\n",
    "import xcoll.geometry.c_init as box\n",
    "\n",
    "\n",
    "# %matplotlib ipympl\n",
    "%matplotlib tk\n"
   ]
  },
  {
   "cell_type": "markdown",
   "metadata": {},
   "source": [
    "# Bounding Box Tests"
   ]
  },
  {
   "cell_type": "code",
   "execution_count": null,
   "metadata": {},
   "outputs": [],
   "source": [
    "sintC = np.sin(np.deg2rad(45))\n",
    "cosTC = np.cos(np.deg2rad(45))\n",
    "rC = 2\n",
    "sin_tb = np.sin(0.)\n",
    "cos_tb = np.cos(0)\n",
    "projL = rC*(cos_tb*cosTC + sin_tb*sintC)\n",
    "projW = rC*(cos_tb*sintC - sin_tb*cosTC) \n",
    "b1 = box.BoundingBox(rC=rC, sin_tC=sintC, cos_tC=cosTC, sin_tb=sin_tb, cos_tb=cos_tb, l=2,w=2, proj_l=projL, proj_w=projW)\n",
    "\n"
   ]
  },
  {
   "cell_type": "code",
   "execution_count": null,
   "metadata": {},
   "outputs": [],
   "source": [
    "L = seg.LineSegment(s1=0, x1=1, s2\n",
    "                    =4, x2=3)"
   ]
  },
  {
   "cell_type": "code",
   "execution_count": null,
   "metadata": {},
   "outputs": [],
   "source": [
    "LL.T"
   ]
  },
  {
   "cell_type": "code",
   "execution_count": null,
   "metadata": {},
   "outputs": [],
   "source": [
    "LL = np.array(b1.vertices)\n",
    "new = np.vstack([LL, LL[0]])\n",
    "print(LL.T)\n",
    "print(new.T)\n",
    "plt.plot(new.T[0], new.T[1], color='red')"
   ]
  },
  {
   "cell_type": "code",
   "execution_count": null,
   "metadata": {},
   "outputs": [],
   "source": [
    "vertices = np.array([L.box.vertices])\n",
    "new = np.append((vertices, np.array([vertices[0]])))\n",
    "print(new)\n",
    "print(L.box.l)\n",
    "print(L.box.cos_tb)\n",
    "print(L.box.sin_tb)"
   ]
  },
  {
   "cell_type": "code",
   "execution_count": null,
   "metadata": {},
   "outputs": [],
   "source": [
    "plt.figure(1)\n",
    "plt.plot(*np.array([L]).T)\n",
    "plt.show()"
   ]
  },
  {
   "cell_type": "code",
   "execution_count": null,
   "metadata": {},
   "outputs": [],
   "source": [
    "sintC = np.sin(np.deg2rad(11.309932))\n",
    "cosTC = np.cos(np.deg2rad(11.309932))\n",
    "rC = 5.099\n",
    "sin_b = np.sin(np.deg2rad(45))\n",
    "cos_b = np.cos(np.deg2rad(45))\n",
    "projL = rC*(cos_b*cosTC + sin_b*sintC)\n",
    "projW = rC*(cos_b*sintC - sin_b*cosTC) \n",
    "b2 = box.BoundingBox(rC=rC, sin_tC=sintC, cos_tC=cosTC, sin_tb=sin_b, cos_tb=cos_b, l=2.8284271247462,w=2.8284271247462, proj_l=projL, proj_w=projW)"
   ]
  },
  {
   "cell_type": "code",
   "execution_count": null,
   "metadata": {},
   "outputs": [],
   "source": [
    "sintC = np.sin(np.deg2rad(0.))\n",
    "cosTC = np.cos(np.deg2rad(0.))\n",
    "rC = 5.\n",
    "sin_b = np.sin(np.deg2rad(45.))\n",
    "cos_b = np.cos(np.deg2rad(45.))\n",
    "projL = rC*(cos_b*cosTC + sin_b*sintC)\n",
    "projW = rC*(cos_b*sintC - sin_b*cosTC) \n",
    "b3 = box.BoundingBox(rC=rC, sin_tC=sintC, cos_tC=cosTC, sin_tb=sin_b, cos_tb=cos_b, l=2.8284271247462,w=1.4142135623731, proj_l=projL, proj_w=projW)"
   ]
  },
  {
   "cell_type": "code",
   "execution_count": null,
   "metadata": {},
   "outputs": [],
   "source": [
    "overlap1 = b1.overlaps(b2=b2)  # this should overlap\n",
    "overlap2 = b1.overlaps(b2=b3)  # this should not overlap\n",
    "overlap3 = b2.overlaps(b2=b3)  # this should overlap\n",
    "\n",
    "print(f\"Overlap1: {overlap1}\")\n",
    "print(f\"Overlap2: {overlap2}\")\n",
    "print(f\"Overlap3: {overlap3}\")"
   ]
  },
  {
   "cell_type": "code",
   "execution_count": null,
   "metadata": {},
   "outputs": [],
   "source": [
    "np.max([1,2])"
   ]
  },
  {
   "cell_type": "code",
   "execution_count": null,
   "metadata": {},
   "outputs": [],
   "source": [
    "def test_BoundingBox_segment(segtype='line', **kwargs):\n",
    "    if segtype == 'line':\n",
    "        s1, x1, s2, x2 = kwargs['s1'], kwargs['x1'], kwargs['s2'], kwargs['x2']\n",
    "        t1, t2 = kwargs.pop('t1', 0), kwargs.pop('t2', 1)\n",
    "        L = seg.LineSegment(s1=s1,x1=x1,s2=s2,x2=x2)\n",
    "        l = np.sqrt((s2 - s1)*(s2 - s1) + (x2 - x1)*(x2 - x1))\n",
    "        w = L.box.l/3.\n",
    "    elif segtype == 'halfopen':\n",
    "        s1, x1, theta = kwargs['s1'], kwargs['x1'], kwargs['theta']\n",
    "        L = seg.HalfOpenLineSegment(s1=s1,x1=x1,theta1=theta)\n",
    "        t1, t2 = kwargs.pop('t1', 0), kwargs.pop('t2', 10)\n",
    "        s2 = s1 + t2*np.cos(theta)\n",
    "        x2 = x1 + t2*np.sin(theta)\n",
    "        l = np.sqrt((s2 - s1)*(s2 - s1) + (x2 - x1)*(x2 - x1))\n",
    "        w = L.box.l/3.\n",
    "    elif segtype == 'circular':\n",
    "        print(\"You can expect error at rC, projL and projW and cos/sin tC\")\n",
    "        R, sR, xR, theta1, theta2 = kwargs['R'], kwargs['sR'], kwargs['xR'], kwargs['theta1'], kwargs['theta2']\n",
    "        L = seg.CircularSegment(R=R,sR=sR,xR=xR,theta1=theta1,theta2=theta2)\n",
    "        t1, t2 = kwargs.pop('t1', 0), kwargs.pop('t2', 2*np.pi)\n",
    "        x1 = xR + R*np.sin(theta1 + t1*(theta2 - theta1))\n",
    "        s1 = sR + R*np.cos(theta1 + t1*(theta2 - theta1))\n",
    "        x2 = xR + R*np.sin(theta1 + t2*(theta2 - theta1))\n",
    "        s2 = sR + R*np.cos(theta1 + t2*(theta2 - theta1))\n",
    "        print(f\"Calculated: {s1}, {x1}, {s2}, {x2}\")\n",
    "        l = np.sqrt((s2 - s1)*(s2 - s1) + (x2 - x1)*(x2 - x1))\n",
    "        w = R - np.sqrt(R*R - L.box.l*L.box.l/4.)\n",
    "        rC = 1\n",
    "        projL = 0. \n",
    "        projW = 0.\n",
    "\n",
    "    elif segtype == 'bezier':\n",
    "        s1, x1, cs1, cx1, cs2, cx2, s2, x2 = kwargs['s1'], kwargs['x1'], kwargs['cs1'], kwargs['cx1'], kwargs['cs2'], kwargs['cx2'], kwargs['s2'], kwargs['x2']\n",
    "        L = seg.BezierSegment(s1=s1,x1=x1,cs1=cs1,cx1=cx1,cs2=cs2,cx2=cx2,s2=s2,x2=x2)\n",
    "        t1, t2 = kwargs.pop('t1', 0), kwargs.pop('t2', 1)\n",
    "        l = np.max([s1,s2]) - np.min([s1,s2])\n",
    "        w = np.max([x1,x2]) - np.min([x1,x2])\n",
    "        rC = np.sqrt(s1*s1 + s2*s2)\n",
    "        projL = np.min([s1,s2])\n",
    "        projW = np.min([x1,x2])\n",
    "        sin_tc  = projW / rC\n",
    "        cos_tc = projL / rC\n",
    "        sin_tb = 0\n",
    "        cos_tb = 1\n",
    "    else:\n",
    "        raise ValueError(\"Invalid segment type\")\n",
    "\n",
    "    if segtype != 'bezier':\n",
    "        # Calculate sin_t and cos_t\n",
    "        sin_t = (x2 - x1) / np.sqrt((x2 - x1)**2 + (s2 - s1)**2)\n",
    "        cos_t = (s2 - s1) / np.sqrt((x2 - x1)**2 + (s2 - s1)**2)\n",
    "\n",
    "        # Initialize sin_p and cos_p\n",
    "        sin_p, cos_p = None, None\n",
    "\n",
    "        # Adjust sin_t and cos_t if theta is larger than 180 degrees\n",
    "        if sin_t < 0:  # if theta is larger than 180 degrees, theta = theta - 180\n",
    "            sin_t = -sin_t\n",
    "            cos_t = -cos_t\n",
    "\n",
    "        # Determine sin_p and cos_p based on cos_t\n",
    "        if cos_t < 1:  # if theta is larger than 90 degrees, phi = theta + 90\n",
    "            sin_p = cos_t\n",
    "            cos_p = -sin_t\n",
    "        else:  # if theta is between 0 and 90 degrees, phi = theta - 90\n",
    "            sin_p = -cos_t\n",
    "            cos_p = sin_t\n",
    "\n",
    "        rC =  np.sqrt( (s1+w/2.*cos_p) * (s1+w/2.*cos_p) + \n",
    "                    (x1+w/2.*sin_p) * (x1+w/2.*sin_p) )\n",
    "        cos_tb = cos_t\n",
    "        sin_tb = sin_t\n",
    "        cos_tc = s1 / rC\n",
    "        sin_tc = x1 / rC\n",
    "        projL = rC*(cos_tb*cos_tc + sin_tb*sin_tc)\n",
    "        projW = rC*(cos_tb*sin_tc - sin_tb*cos_tc)\n",
    "    if abs(l - L.box.l) > 1e-9:\n",
    "        print(f\"Alert {segtype}: Length difference exceeds tolerance! Calculated: {l}, Box: {L.box.l}\")\n",
    "    if abs(w - L.box.w) > 1e-9:\n",
    "        print(f\"Alert {segtype}: Width difference exceeds tolerance! Calculated: {w}, Box: {L.box.w}\")\n",
    "    if abs(sin_tc - L.box.sin_tC) > 1e-9:\n",
    "        print(f\"Alert {segtype}: sin_tC difference exceeds tolerance! Calculated: {sin_tc}, Box: {L.box.sin_tC}\")\n",
    "    if abs(cos_tc - L.box.cos_tC) > 1e-9:\n",
    "        print(f\"Alert {segtype}: cos_tC difference exceeds tolerance! Calculated: {cos_tc}, Box: {L.box.cos_tC}\")\n",
    "    if abs(sin_tb - L.box.sin_tb) > 1e-9:\n",
    "        print(f\"Alert {segtype}: sin_tb difference exceeds tolerance! Calculated: {sin_tb}, Box: {L.box.sin_tb}\")\n",
    "    if abs(cos_tb - L.box.cos_tb) > 1e-9:\n",
    "        print(f\"Alert {segtype}: cos_tb difference exceeds tolerance! Calculated: {cos_tb}, Box: {L.box.cos_tb}\")\n",
    "    if abs(projL - L.box.proj_l) > 1e-9:\n",
    "        print(f\"Alert {segtype}: proj_l difference exceeds tolerance! Calculated: {projL}, Box: {L.box.proj_l}\")\n",
    "    if abs(projW - L.box.proj_w) > 1e-9:\n",
    "        print(f\"Alert {segtype}: proj_w difference exceeds tolerance! Calculated: {projW}, Box: {L.box.proj_w}\")\n",
    "    if abs(rC - L.box.rC) > 1e-9:\n",
    "        print(f\"Alert {segtype}: rC difference exceeds tolerance! Calculated: {rC}, Box: {L.box.rC}\")\n",
    "    print()\n"
   ]
  },
  {
   "cell_type": "code",
   "execution_count": null,
   "metadata": {},
   "outputs": [],
   "source": [
    "#test_BoundingBox_segment(segtype='line', s1=0, x1=0, s2=1, x2=1, t1=0, t2=1)\n",
    "#test_BoundingBox_segment(segtype='halfopen', s1=1, x1=0, theta=np.pi/3, t1=0, t2=10)\n",
    "#test_BoundingBox_segment(segtype='circular', R=1, sR=0, xR=0, theta1=np.pi/6, theta2=np.pi/4)\n",
    "test_BoundingBox_segment(segtype='bezier', s1=0, x1=0, cs1=0, cx1=1, cs2=1, cx2=1, s2=1, x2=0, t1=0, t2=1)"
   ]
  },
  {
   "cell_type": "code",
   "execution_count": 1,
   "metadata": {},
   "outputs": [],
   "source": [
    "import numpy as np\n",
    "import matplotlib.pyplot as plt\n",
    "from matplotlib.widgets import Slider\n",
    "import xcoll.geometry.trajectories as tr\n",
    "\n",
    "import xcoll.geometry.segments as seg\n",
    "\n",
    "import xcoll.geometry.c_init as box\n",
    "\n",
    "\n",
    "\n",
    "\n",
    "# %matplotlib ipympl\n",
    "#%matplotlib tk"
   ]
  },
  {
   "cell_type": "code",
   "execution_count": null,
   "metadata": {},
   "outputs": [],
   "source": [
    "#L = seg.HalfOpenLineSegment(s1=1,x1=0,cos_t1=np.sqrt(2)/2)\n",
    "#L.box.l\n",
    "\n",
    "#L1 = seg.LineSegment(s1=0,x1=0,s2=1,x2=1)\n",
    "#L1.box.l\n",
    "\n",
    "#L3 = seg.CircularSegment(R=1,sR=0,xR=0,theta1=np.pi/6,theta2=np.pi/4)\n",
    "\n",
    "L4 = seg.BezierSegment(s1=0,x1=0,cs1=0.5,cx1=0.5,cs2=0.5,cx2=0.5,s2=1,x2=1) "
   ]
  },
  {
   "cell_type": "code",
   "execution_count": null,
   "metadata": {},
   "outputs": [],
   "source": [
    "theta_ch = np.arctan2( 0.837257, -0.546810)\n",
    "theta_b = np.arctan2( 0.546810, 0.837257)\n",
    "print(np.rad2deg(theta_ch))\n",
    "print(np.rad2deg(theta_b))"
   ]
  },
  {
   "cell_type": "code",
   "execution_count": 2,
   "metadata": {},
   "outputs": [
    {
     "name": "stdout",
     "output_type": "stream",
     "text": [
      "Compiling ContextCpu kernels...\n",
      "Done compiling ContextCpu kernels.\n"
     ]
    },
    {
     "data": {
      "text/plain": [
       "(<Figure size 800x800 with 1 Axes>, <Axes: xlabel='s', ylabel='x'>)"
      ]
     },
     "execution_count": 2,
     "metadata": {},
     "output_type": "execute_result"
    },
    {
     "data": {
      "image/png": "[encoded data removed]",
      "text/plain": [
       "<Figure size 800x800 with 1 Axes>"
      ]
     },
     "metadata": {},
     "output_type": "display_data"
    }
   ],
   "source": [
    "#L = tr.DriftTrajectory(s0=3, x0=3, xp=np.deg2rad(35))\n",
    "L_circ = tr.CircularTrajectory(R=1, sR=0, xR=0, s0=0, x0=1, l1=0,l2=np.pi)\n",
    "\n",
    "\n",
    "L_circ.plot(l1=0, l2=np.pi)\n",
    "\n"
   ]
  },
  {
   "cell_type": "code",
   "execution_count": 47,
   "metadata": {},
   "outputs": [
    {
     "data": {
      "text/plain": [
       "(<Figure size 800x800 with 1 Axes>, <Axes: xlabel='s', ylabel='x'>)"
      ]
     },
     "execution_count": 47,
     "metadata": {},
     "output_type": "execute_result"
    }
   ],
   "source": [
    "ran_1 = np.random.normal()\n",
    "ran_2 = np.random.normal()\n",
    "\n",
    "L_mcs = tr.MultipleCoulombTrajectory(s0=0.1, x0=1, xp=np.tan(np.deg2rad(30.)), pc=1e9, beta=1.e9/np.sqrt(0.938e9**2 + 1.e9**2),\n",
    "                                     q=1, X0=0.0001, ran_1=ran_1, ran_2=ran_2, l1=0,l2=1)\n",
    "\n",
    "\n",
    "L_mcs.plot()\n"
   ]
  },
  {
   "cell_type": "code",
   "execution_count": null,
   "metadata": {},
   "outputs": [
    {
     "data": {
      "text/plain": [
       "(<Figure size 800x800 with 1 Axes>, <Axes: xlabel='s', ylabel='x'>)"
      ]
     },
     "execution_count": 45,
     "metadata": {},
     "output_type": "execute_result"
    }
   ],
   "source": [
    "S_circ = seg.CircularSegment(R=1,sR=0.4,xR=1.4,theta1=np.pi/6,theta2=3*np.pi/2, t1=0.,t2=1)\n",
    "S_circ.plot(t1=0, t2=1)"
   ]
  },
  {
   "cell_type": "code",
   "execution_count": 48,
   "metadata": {},
   "outputs": [
    {
     "name": "stdout",
     "output_type": "stream",
     "text": [
      "Overlap: 1\n"
     ]
    }
   ],
   "source": [
    "overlap = L_mcs.box.overlaps(b2=S_circ.box)\n",
    "print(f\"Overlap: {overlap}\")\n"
   ]
  },
  {
   "cell_type": "markdown",
   "metadata": {},
   "source": [
    "# Trajectory Tests"
   ]
  },
  {
   "cell_type": "code",
   "execution_count": 1,
   "metadata": {},
   "outputs": [],
   "source": [
    "import numpy as np\n",
    "import matplotlib.pyplot as plt\n",
    "\n",
    "from matplotlib.widgets import Slider\n",
    "import xcoll.geometry.trajectories as tr\n",
    "import xcoll.geometry.segments as seg\n",
    "import xcoll.geometry.c_init as box\n",
    "\n",
    "#%matplotlib ipympl\n",
    "%matplotlib tk"
   ]
  },
  {
   "cell_type": "code",
   "execution_count": null,
   "metadata": {},
   "outputs": [],
   "source": [
    "kwargs = {'s0': [-3, 3, 0.1], 'x0': [-3, 3, 0.1], 'theta0': [np.deg2rad(-89), np.deg2rad(89), np.deg2rad(10)]}\n",
    "\n",
    "tr.DriftTrajectory._inspect(**kwargs)"
   ]
  },
  {
   "cell_type": "code",
   "execution_count": 8,
   "metadata": {},
   "outputs": [],
   "source": [
    "kwargs = {'sR': [-3, 3, 0.], 'xR': [-3, 3, 0.], 's0': [-2, 2, 1.5], 'x0': [-2, 2, -1.5]}\n",
    "tr.CircularTrajectory._inspect(**kwargs)"
   ]
  },
  {
   "cell_type": "code",
   "execution_count": 2,
   "metadata": {},
   "outputs": [
    {
     "name": "stdout",
     "output_type": "stream",
     "text": [
      "Compiling ContextCpu kernels...\n"
     ]
    },
    {
     "name": "stderr",
     "output_type": "stream",
     "text": [
      "ee7c21fa25b14837a54db4dce2dd5a34.c:1597:1: warning: multi-line comment [-Wcomment]\n",
      " 1597 | //     double pc = LocalParticle_get_p0c(part) * LocalParticle_get_charge_ratio(part) \\\n",
      "      | ^\n"
     ]
    },
    {
     "name": "stdout",
     "output_type": "stream",
     "text": [
      "Done compiling ContextCpu kernels.\n"
     ]
    },
    {
     "name": "stderr",
     "output_type": "stream",
     "text": [
      "/home/ssolstra/pythondev/xcoll/xcoll/geometry/trajectories/trajectory.py:145: UserWarning: Attempting to set identical low and high xlims makes transformation singular; automatically expanding.\n",
      "  sliders = {arg: Slider(ax_sliders[arg], arg, val[0], val[1], valinit=val[2])\n",
      "invalid command name \"140491919320192process_stream_events\"\n",
      "    while executing\n",
      "\"140491919320192process_stream_events\"\n",
      "    (\"after\" script)\n"
     ]
    }
   ],
   "source": [
    "ran_1 = np.random.normal()\n",
    "ran_2 = np.random.normal()\n",
    "\n",
    "#fig, _ = tr.MultipleCoulombTrajectory(s0=0.1, x0=1, xp=np.tan(np.deg2rad(30.)), pc=1e9, beta=1.e9/np.sqrt(0.938e9**2 + 1.e9**2),\n",
    "#                                      q=1, X0=0.0001, ran_1=ran_1, ran_2=ran_2).plot()\n",
    "\n",
    "kwargs = {'s0': [-3, 3, 0.1], 'x0': [-3, 3, 0.1], 'xp': [np.deg2rad(-180), np.deg2rad(180), np.deg2rad(10)], 'pc':[1e9, 1e9, 1e9],\n",
    "          'beta': [1.e9/np.sqrt(0.938e9**2 + 1.e9**2), 1.e9/np.sqrt(0.938e9**2 + 1.e9**2), 1.e9/np.sqrt(0.938e9**2 + 1.e9**2)],\n",
    "          'q': [1, 1, 1], 'X0': [0.0001, 0.001, 0.0001], 'ran_1': [ran_1, ran_1, ran_1], 'ran_2': [ran_2, ran_2, ran_2]}\n",
    "\n",
    "tr.MultipleCoulombTrajectory._inspect(**kwargs)"
   ]
  },
  {
   "cell_type": "code",
   "execution_count": 2,
   "metadata": {},
   "outputs": [
    {
     "name": "stdout",
     "output_type": "stream",
     "text": [
      "Compiling ContextCpu kernels...\n",
      "Done compiling ContextCpu kernels.\n"
     ]
    }
   ],
   "source": [
    "fig, _ =  tr.CircularTrajectory(s0=0, x0=-1, sR=0, xR=0).plot(l1=-0.5, l2=np.pi/2-0.01)\n"
   ]
  },
  {
   "cell_type": "markdown",
   "metadata": {},
   "source": [
    "# Segment Tests"
   ]
  },
  {
   "cell_type": "code",
   "execution_count": 1,
   "metadata": {},
   "outputs": [],
   "source": [
    "import numpy as np\n",
    "import matplotlib.pyplot as plt\n",
    "from matplotlib.widgets import Slider\n",
    "import xcoll.geometry.trajectories as tr\n",
    "import xcoll.geometry.segments as seg\n",
    "import xcoll.geometry.c_init as box\n",
    "# %matplotlib ipympl\n",
    "%matplotlib tk"
   ]
  },
  {
   "cell_type": "code",
   "execution_count": null,
   "metadata": {},
   "outputs": [],
   "source": [
    "kwargs = {'s1': [-3, 3, 0], 'x1': [-3, 3, 0], 's2': [-3, 3, 1], 'x2': [-3, 3, 1]}\n",
    "\n",
    "seg.LineSegment._inspect(**kwargs)\n"
   ]
  },
  {
   "cell_type": "code",
   "execution_count": null,
   "metadata": {},
   "outputs": [],
   "source": [
    "kwargs = {'s1': [-3, 3, 0], 'x1': [-3, 3, 0], 'theta1': [-2*np.pi, 2*np.pi, np.pi/3]}\n",
    "\n",
    "seg.HalfOpenLineSegment._inspect(**kwargs)"
   ]
  },
  {
   "cell_type": "code",
   "execution_count": 23,
   "metadata": {},
   "outputs": [
    {
     "name": "stdout",
     "output_type": "stream",
     "text": [
      "Compiling ContextCpu kernels...\n",
      "Done compiling ContextCpu kernels.\n"
     ]
    }
   ],
   "source": [
    "kwargs = {'R': [0.1, 3, 1.2], 'sR': [-3, 3, 0.2], 'xR': [-3, 3, -0.3],\n",
    "          'theta1': [-np.pi, np.pi, -np.pi], 'theta2': [-np.pi, np.pi, np.pi/3],}\n",
    "\n",
    "seg.CircularSegment._inspect(**kwargs)\n",
    "# 1. Providing the centre, radius, and angles: CircularSegment(R=..., sR=..., xR=..., theta1=..., theta2=...)\n",
    "# 2. Providing the start point, radius, and angles: CircularSegment(R=..., s1=..., x1=..., theta1=..., theta2=...)\n",
    "# 3. Providing the end point, radius, and angles: CircularSegment(R=..., s2=..., x2=..., theta1=..., theta2=...)\n",
    "# 4. Providing the start and end point, and the (possibly negative) curvature: CircularSegment(k=..., s1=..., x1=..., s2=..., x2=...)\n",
    "# 5. Providing the centre, start point, and an angular shift: CircularSegment(sR=..., xR=..., s1=..., x1=..., delta_theta=...)\n",
    "# 6. Providing the centre, end point, and an angular shift: CircularSegment(sR=..., xR=..., s2=..., x2=..., delta_theta=...)"
   ]
  },
  {
   "cell_type": "code",
   "execution_count": 25,
   "metadata": {},
   "outputs": [],
   "source": [
    "kwargs = {'R': [0.1, 3, 1.2], 's1': [-3, 3, 0.2], 'x1': [-3, 3, -0.3],\n",
    "          'theta1': [-np.pi, np.pi, -np.pi/3], 'theta2': [-np.pi, 2*np.pi, np.pi/3]}\n",
    "\n",
    "seg.CircularSegment._inspect(**kwargs)"
   ]
  },
  {
   "cell_type": "code",
   "execution_count": null,
   "metadata": {},
   "outputs": [],
   "source": [
    "kwargs = {'R': [0.1, 3, 1.2], 's2': [-3, 3, 0.2], 'x2': [-3, 3, -0.3],\n",
    "          'theta1': [-np.pi, np.pi, -np.pi/3], 'theta2': [-np.pi, 2*np.pi, np.pi/3],}\n",
    "\n",
    "seg.CircularSegment._inspect(**kwargs)"
   ]
  },
  {
   "cell_type": "code",
   "execution_count": 26,
   "metadata": {},
   "outputs": [],
   "source": [
    "kwargs = {'k': [-1, 1, 0.1], 's1': [-3, 3, 0.2], 'x1': [-3, 3, -0.3], 's2': [-3, 3, 0.7], 'x2': [-3, 3, 0.5]}\n",
    "\n",
    "# seg.CircularSegment._inspect(**kwargs)\n",
    "seg.CircularSegment._inspect(plot_bounding_box=False, plot_control_points=False, **kwargs)"
   ]
  },
  {
   "cell_type": "code",
   "execution_count": null,
   "metadata": {},
   "outputs": [],
   "source": [
    "kwargs = {'sR': [-3, 3, 0.2], 'xR': [-3, 3, -0.3], 's1': [-3, 3, 0.7], 'x1': [-3, 3, 0.5],\n",
    "          'delta_theta': [-2*np.pi, 2*np.pi, np.pi/3]}\n",
    "\n",
    "seg.CircularSegment._inspect(**kwargs)"
   ]
  },
  {
   "cell_type": "code",
   "execution_count": null,
   "metadata": {},
   "outputs": [],
   "source": [
    "kwargs = {'sR': [-3, 3, 0.2], 'xR': [-3, 3, -0.3], 's1': [-3, 3, 0.7], 'x1': [-3, 3, 0.5],\n",
    "          'delta_theta': [-2*np.pi, 2*np.pi, -np.pi/3]}"
   ]
  },
  {
   "cell_type": "code",
   "execution_count": 2,
   "metadata": {},
   "outputs": [
    {
     "name": "stdout",
     "output_type": "stream",
     "text": [
      "Compiling ContextCpu kernels...\n",
      "Done compiling ContextCpu kernels.\n"
     ]
    }
   ],
   "source": [
    "kwargs = {\n",
    "    's1': [-3, 3, 0],\n",
    "    'x1': [-3, 3, 0],\n",
    "    'cs1': [-3, 3, 0],\n",
    "    'cx1': [-3, 3, 1],\n",
    "    'cs2': [-3, 3, 1],\n",
    "    'cx2': [-3, 3, 0],\n",
    "    's2': [-3, 3, 1],\n",
    "    'x2': [-3, 3, 1],\n",
    "}\n",
    "\n",
    "seg.BezierSegment._inspect(**kwargs)"
   ]
  },
  {
   "cell_type": "code",
   "execution_count": null,
   "metadata": {},
   "outputs": [],
   "source": []
  },
  {
   "cell_type": "markdown",
   "metadata": {},
   "source": [
    "# Shape"
   ]
  },
  {
   "cell_type": "code",
   "execution_count": null,
   "metadata": {},
   "outputs": [],
   "source": [
    "%load_ext autoreload\n",
    "%autoreload 2\n",
    "# %load_ext wurlitzer\n",
    "%matplotlib ipympl\n",
    "\n",
    "import numpy as np\n",
    "import xobjects as xo\n",
    "\n",
    "import xcoll as xc\n",
    "from xcoll.geometry.segments import get_max_crossings\n",
    "from xcoll.geometry.trajectories import DriftTrajectory\n",
    "\n",
    "import matplotlib.pyplot as plt\n",
    "from ipywidgets import interact, interactive, fixed, interact_manual\n",
    "import ipywidgets as widgets"
   ]
  },
  {
   "cell_type": "code",
   "execution_count": null,
   "metadata": {},
   "outputs": [],
   "source": [
    "def check_drift(shape, plot_object=False, xlim=(-0.5, 1.5), ylim=(-0.5, 1.5)):\n",
    "    to_remove = []\n",
    "    s_val = np.linspace(*xlim, 200)\n",
    "    fig, ax = plt.subplots(1, 1, figsize=(8,8))\n",
    "    if plot_object:\n",
    "        shape.plot(axes=ax)\n",
    "    ax.set_xlim(xlim)\n",
    "    ax.set_ylim(ylim)\n",
    "    ax.set_aspect('equal')\n",
    "\n",
    "    n_hit = np.zeros(1, dtype=np.int8)\n",
    "    s = np.zeros(get_max_crossings(shape, DriftTrajectory), dtype=np.float64)\n",
    "    # s = np.zeros(8, dtype=np.float64)\n",
    "\n",
    "    def update_plot(s0, x0, part_theta):\n",
    "        # Clean the previous trajectory and points\n",
    "        while to_remove:\n",
    "            last_point = to_remove.pop()  # Get the last added point\n",
    "            last_point.remove()\n",
    "        m = np.tan(np.radians(part_theta))\n",
    "        # Draw drift trajectory and point\n",
    "        spread = 10 # degrees\n",
    "        line, = ax.plot(s_val, m*(s_val - s0) + x0, c='k')\n",
    "        to_remove.append(line)\n",
    "        scatter = ax.scatter(s0, x0, c='r', s=20)\n",
    "        to_remove.append(scatter)\n",
    "        m1 = np.tan(np.radians(part_theta+spread))\n",
    "        m2 = np.tan(np.radians(part_theta-spread))\n",
    "        line = ax.fill_between(s_val, m1*(s_val - s0) + x0, m2*(s_val - s0) + x0, alpha=0.2)\n",
    "        to_remove.append(line)\n",
    "        # Create hits for different slopes (small cone around the trajectory)\n",
    "        hits_s = []\n",
    "        hits_x = []\n",
    "        for sp in np.linspace(-spread, spread, 100):\n",
    "            n_hit[0] = 0\n",
    "            m = np.tan(np.radians(part_theta + sp))\n",
    "            if isinstance(shape, xc.Shape2DV):\n",
    "                shape.crossing_drift(n_hit=n_hit, s=s, s0=s0, x0=x0, xm=m, y0=0, ym=0)\n",
    "            else:\n",
    "                shape.crossing_drift(n_hit=n_hit, s=s, s0=s0, x0=x0, xm=m)\n",
    "            hits_s += list(s[:n_hit[0]])\n",
    "            hits_x += list(x0 + m*(s[:n_hit[0]] - s0))\n",
    "        # for i in range(n_hit[0]):\n",
    "        scatter = ax.scatter(hits_s, hits_x, c='g', s=5)\n",
    "        # to_remove.append(scatter)\n",
    "        fig.canvas.draw()  # Redraw the canvas to show the new point\n",
    "\n",
    "\n",
    "    def onclick(event):\n",
    "        s0, x0 = event.xdata, event.ydata\n",
    "        if s0 is not None and x0 is not None:  # Ensure the click is inside the plot\n",
    "            update_plot(s0, x0, part_theta_slider.value)\n",
    "\n",
    "\n",
    "    fig.canvas.mpl_connect('button_press_event', onclick)\n",
    "    part_theta_slider = widgets.IntSlider(min=-89, max=89, step=1, value=0)\n",
    "\n",
    "    @interact(part_theta=part_theta_slider)\n",
    "    def check_linesegments(part_theta):\n",
    "        if to_remove:\n",
    "            scatter = to_remove[1]  # The second point is the clicked scatter point\n",
    "            s0, x0 = scatter.get_offsets()[0, 0], scatter.get_offsets()[0, 1]\n",
    "\n",
    "            # Update the plot with the new slope based on the slider\n",
    "            update_plot(s0, x0, part_theta)"
   ]
  },
  {
   "cell_type": "code",
   "execution_count": null,
   "metadata": {},
   "outputs": [],
   "source": [
    "shape1 = xc.Shape2D([xc.LineSegment(s1=0, x1=0, s2=0.2, x2=1), xc.LineSegment(s1=0.2, x1=1, s2=1, x2=1),\n",
    "                     xc.LineSegment(s1=1, x1=1, s2=0.8, x2=0), xc.LineSegment(s1=0.8, x1=0, s2=0, x2=0)])\n",
    "shape2 = xc.Shape2D([xc.LineSegment(s1=0, x1=0, s2=0.2, x2=1),\n",
    "                     xc.BezierSegment(s1=0.2, x1=1, s2=1+0.5*np.cos(3*np.pi/4), x2=0.5+0.5*np.sin(3*np.pi/4), cs1=0.5, cx1=2.5, cs2=1+0.5*np.cos(3*np.pi/4)-0.6, cx2=0.5+0.5*np.sin(3*np.pi/4)-0.6),\n",
    "                     xc.CircularSegment(R=0.5, s=1, x=0.5, t1=-np.pi/2, t2=3*np.pi/4),\n",
    "                     xc.LineSegment(s1=1, x1=0, s2=0, x2=0),\n",
    "                     xc.HalfOpenLineSegment(s=2, x=1, t=np.pi/4),\n",
    "                     xc.LineSegment(s1=2, x1=1, s2=3, x2=0),\n",
    "                     xc.HalfOpenLineSegment(s=3, x=0, t=np.pi/4)])\n",
    "shape3 = xc.Shape2DV([xc.LineSegment(s1=0, x1=0, s2=0.2, x2=1),\n",
    "                      xc.BezierSegment(s1=0.2, x1=1, s2=1+0.5*np.cos(3*np.pi/4), x2=0.5+0.5*np.sin(3*np.pi/4), cs1=0.5, cx1=2.5, cs2=1+0.5*np.cos(3*np.pi/4)-0.6, cx2=0.5+0.5*np.sin(3*np.pi/4)-0.6),\n",
    "                      xc.CircularSegment(R=0.5, s=1, x=0.5, t1=-np.pi/2, t2=3*np.pi/4),\n",
    "                      xc.LineSegment(s1=1, x1=0, s2=0, x2=0),\n",
    "                      xc.HalfOpenLineSegment(s=2, x=1, t=np.pi/4),\n",
    "                      xc.LineSegment(s1=2, x1=1, s2=3, x2=0),\n",
    "                      xc.HalfOpenLineSegment(s=3, x=0, t=np.pi/4),\n",
    "                      xc.HalfOpenLineSegment(s=1.8, x=-0.5, t=5*np.pi/8),\n",
    "                      xc.CircularSegment(R=0.3, s=1.8-0.3*np.cos(np.pi/8), x=-0.5-0.3*np.sin(np.pi/8), t1=-7*np.pi/8, t2=np.pi/8),\n",
    "                      xc.HalfOpenLineSegment(s=1.8-0.6*np.cos(np.pi/8), x=-0.5-0.6*np.sin(np.pi/8), t=5*np.pi/8)],\n",
    "                     vlimit=[-0.1, 0.1])\n",
    "shape4 = xc.Shape2DV([xc.CircularSegment(R=1, s=0, x=0, t1=0, t2=2*np.pi/3),\n",
    "                      xc.CircularSegment(R=1, s=0, x=0, t1=2*np.pi/3, t2=4*np.pi/3),\n",
    "                      xc.CircularSegment(R=1, s=0, x=0, t1=4*np.pi/3, t2=2*np.pi)],\n",
    "                     vlimit=[-0.1, 0.1])\n",
    "R1 = 0.5\n",
    "R2 = 2\n",
    "t = np.arcsin(R1/R2)\n",
    "shape5 = xc.Shape2D([xc.CircularSegment(R=R1, s=0, x=0, t1=np.pi/2, t2=-np.pi/2),\n",
    "                     xc.CircularSegment(R=R2, s=-R2*np.cos(t), x=0, t1=-t, t2=t)])\n",
    "shape6 = xc.Shape2D([xc.HalfOpenLineSegment(s=0, x=0, t=np.pi/4),\n",
    "                     xc.HalfOpenLineSegment(s=0, x=0, t=-np.pi/4)])"
   ]
  },
  {
   "cell_type": "code",
   "execution_count": null,
   "metadata": {},
   "outputs": [],
   "source": [
    "#This is meant to fail\n",
    "\n",
    "xc.Shape2D([xc.LineSegment(s1=0, x1=0, s2=0.2, x2=1), xc.LineSegment(s1=0.2, x1=1, s2=1, x2=1), xc.LineSegment(s1=0.2, x1=1, s2=1, x2=1),\n",
    "            xc.LineSegment(s1=1, x1=1, s2=0.8, x2=0), xc.LineSegment(s1=0.8, x1=0, s2=0, x2=0)]).get_vertices()"
   ]
  },
  {
   "cell_type": "code",
   "execution_count": null,
   "metadata": {},
   "outputs": [],
   "source": [
    "fig, _ = shape1.plot3d(); fig.show()\n",
    "fig, _ = shape2.plot3d(); fig.show()\n",
    "fig, _ = shape3.plot3d(); fig.show()\n",
    "fig, _ = shape4.plot3d(); fig.show()\n",
    "fig, _ = shape5.plot3d(); fig.show()\n",
    "fig, _ = shape6.plot3d(); fig.show()"
   ]
  },
  {
   "cell_type": "code",
   "execution_count": null,
   "metadata": {},
   "outputs": [],
   "source": [
    "shape_1 = xc.Shape2D([xc.LineSegment(s1=0, x1=0, s2=0.2, x2=1), xc.LineSegment(s1=0.2, x1=1, s2=1, x2=1),\n",
    "                     xc.LineSegment(s1=1, x1=1, s2=0.8, x2=0), xc.LineSegment(s1=0.8, x1=0, s2=0, x2=0)])\n",
    "\n",
    "check_drift(shape_1, plot_object=False)"
   ]
  },
  {
   "cell_type": "code",
   "execution_count": null,
   "metadata": {},
   "outputs": [],
   "source": [
    "shape_2 = xc.Shape2D([xc.LineSegment(s1=0, x1=0, s2=0.2, x2=1),\n",
    "                     xc.BezierSegment(s1=0.2, x1=1, s2=1+0.5*np.cos(3*np.pi/4), x2=0.5+0.5*np.sin(3*np.pi/4), cs1=0.5, cx1=2.5, cs2=1+0.5*np.cos(3*np.pi/4)-0.6, cx2=0.5+0.5*np.sin(3*np.pi/4)-0.6),\n",
    "                     xc.CircularSegment(R=0.5, s=1, x=0.5, t1=-np.pi/2, t2=3*np.pi/4),\n",
    "                     xc.LineSegment(s1=1, x1=0, s2=0, x2=0),\n",
    "                     xc.HalfOpenLineSegment(s=2, x=1, t=np.pi/4),\n",
    "                     xc.LineSegment(s1=2, x1=1, s2=3, x2=0),\n",
    "                     xc.HalfOpenLineSegment(s=3, x=0, t=np.pi/4)])\n",
    "check_drift(shape_2, xlim=(-0.5, 4), ylim=(-0.5,2), plot_object=True)"
   ]
  },
  {
   "cell_type": "code",
   "execution_count": null,
   "metadata": {},
   "outputs": [],
   "source": [
    "# seg = xc.CircularSegment(R=1, s=0., x=0., t1=0,        t2=np.pi/2)\n",
    "# seg = xc.CircularSegment(R=1, s=0., x=0., t1=-np.pi/2, t2=np.pi/2)\n",
    "# seg = xc.CircularSegment(R=1, s=0., x=0., t1=np.pi/2,  t2=-np.pi/2)\n",
    "# seg = xc.CircularSegment(R=1, s=0., x=0., t1=0,        t2=3*np.pi/2)\n",
    "# seg = xc.CircularSegment(R=1, s=0., x=0., t1=0,        t2=2*np.pi)\n",
    "# seg = xc.CircularSegment(R=1, s=0., x=0., t1=0,        t2=-np.pi/2)\n",
    "# seg = xc.CircularSegment(R=1, s=0., x=0., t1=-np.pi/2, t2=0)\n",
    "seg = xc.CircularSegment(R=1, s=0., x=0., t1=3*np.pi/2,t2=0)\n",
    "\n",
    "check_drift(xc.Shape2D([seg]), plot_object=True, xlim=(-1.5, 1.5), ylim=(-1.5, 1.5))"
   ]
  },
  {
   "cell_type": "code",
   "execution_count": null,
   "metadata": {},
   "outputs": [],
   "source": [
    "shape_3 = xc.Shape2DV([xc.LineSegment(s1=0, x1=0, s2=0.2, x2=1),\n",
    "                      xc.BezierSegment(s1=0.2, x1=1, s2=1+0.5*np.cos(3*np.pi/4), x2=0.5+0.5*np.sin(3*np.pi/4), cs1=0.5, cx1=2.5, cs2=1+0.5*np.cos(3*np.pi/4)-0.6, cx2=0.5+0.5*np.sin(3*np.pi/4)-0.6),\n",
    "                      xc.CircularSegment(R=0.5, s=1, x=0.5, t1=-np.pi/2, t2=3*np.pi/4),\n",
    "                      xc.LineSegment(s1=1, x1=0, s2=0, x2=0),\n",
    "                      xc.HalfOpenLineSegment(s=2, x=1, t=np.pi/4),\n",
    "                      xc.LineSegment(s1=2, x1=1, s2=3, x2=0),\n",
    "                      xc.HalfOpenLineSegment(s=3, x=0, t=np.pi/4)],\n",
    "                    vlimit=[-0.1, 0.1])\n",
    "check_drift(shape_3, xlim=(-0.5, 4), ylim=(-0.5,2), plot_object=True)"
   ]
  }
 ],
 "metadata": {
  "kernelspec": {
   "display_name": "xsuite",
   "language": "python",
   "name": "python3"
  },
  "language_info": {
   "codemirror_mode": {
    "name": "ipython",
    "version": 3
   },
   "file_extension": ".py",
   "mimetype": "text/x-python",
   "name": "python",
   "nbconvert_exporter": "python",
   "pygments_lexer": "ipython3",
   "version": "3.10.16"
  }
 },
 "nbformat": 4,
 "nbformat_minor": 2
}
