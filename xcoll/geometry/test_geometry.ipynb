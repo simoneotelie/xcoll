{
 "cells": [
  {
   "cell_type": "code",
   "execution_count": null,
   "metadata": {},
   "outputs": [],
   "source": [
    "import numpy as np\n",
    "import matplotlib.pyplot as plt\n",
    "import xcoll.geometry.trajectories as tr\n",
    "%matplotlib ipympl\n",
    "\n",
    "s0 = 0.1\n",
    "x0 = 1\n",
    "xp = np.tan(np.deg2rad(30.))\n",
    "\n",
    "ran_1 = np.random.normal()\n",
    "ran_2 = np.random.normal()\n",
    "\n",
    "drift = tr.DriftTrajectory(s0=s0, x0=x0, xp=xp)\n",
    "circ = tr.CircularTrajectory(s0=s0, x0=x0, sR=-1, xR=2)\n",
    "mcs = tr.MultipleCoulombTrajectory(s0=s0, x0=x0, xp=xp, pc=1e9, beta=1/np.sqrt(1+1.), q=1,X0=0.1, ran_1=ran_1, ran_2=ran_2)"
   ]
  },
  {
   "cell_type": "code",
   "execution_count": null,
   "metadata": {},
   "outputs": [],
   "source": [
    "# circ =tr.CircularTrajectory(s0=1, x0=-2, sR=1, xR=1)\n",
    "fig, _ =  tr.CircularTrajectory(x0=305, s0=301, sR=300, xR=300).plot(l1=0.,l2=0.6)\n"
   ]
  },
  {
   "cell_type": "code",
   "execution_count": null,
   "metadata": {},
   "outputs": [],
   "source": [
    "circ =tr.CircularTrajectory(s0=1, x0=-2, sR=1, xR=1)\n",
    "fig, _ =  tr.CircularTrajectory(s0=290, x0=301, sR=300, xR=300).plot(l1=0.,l2=0.1)\n"
   ]
  },
  {
   "cell_type": "code",
   "execution_count": null,
   "metadata": {},
   "outputs": [],
   "source": [
    "import numpy as np\n",
    "import matplotlib.pyplot as plt\n",
    "from matplotlib.widgets import Slider\n",
    "\n",
    "import xcoll.geometry.segments as seg\n",
    "# %matplotlib ipympl\n",
    "%matplotlib tk\n",
    "\n",
    "\n",
    "# s1=0\n",
    "# x1=0.5\n",
    "# s2=0.5\n",
    "# x2=0.4\n",
    "\n",
    "# line = seg.LineSegment(s1=s1, x1=x1, s2=s2, x2=x2)\n",
    "# holine = seg.HalfOpenLineSegment(s1=s1, x1=x1, theta1=np.deg2rad(30.))\n",
    "# circ = seg.CircularSegment(sR=s1, xR=x1, R=1, theta1=np.deg2rad(30.), theta2=np.deg2rad(60.))\n",
    "# bez = seg.BezierSegment(s1=s1, x1=x1, s2=s2, x2=x2, cs1=0.5, cx1=0.75, cs2=0., cx2=0.)"
   ]
  },
  {
   "cell_type": "code",
   "execution_count": null,
   "metadata": {},
   "outputs": [],
   "source": [
    "# seg.CircularSegment(sR=s1, xR=x1, R=1, theta1=np.deg2rad(-30.), theta2=np.deg2rad(170.)).plot()\n",
    "# seg.CircularSegment(R=1, sR=0, xR=0).plot(t1=-0.5, t2=np.pi/2-0.01)\n",
    "\n",
    "theta1 = 0.\n",
    "theta2 = 90.\n",
    "fig, ax = seg.CircularSegment(R=1, sR=0.2, xR=-0.3, theta1=np.deg2rad(theta1), theta2=np.deg2rad(theta2)).plot()\n",
    "plt.subplots_adjust(left=0.1, bottom=0.35)  # Space for the sliders\n",
    "\n",
    "def update_plot(val):\n",
    "    global ax  # Declare 'ax' as global to modify the existing axis\n",
    "    theta1 = slider1.val\n",
    "    theta2 = slider2.val\n",
    "    # Clear the existing plot and redraw\n",
    "    ax.clear()\n",
    "    fig, ax = seg.CircularSegment(R=1, sR=0.2, xR=-0.3, theta1=np.deg2rad(theta1), theta2=np.deg2rad(theta2)).plot(ax=ax)\n",
    "    plt.draw()\n",
    "\n",
    "ax_slider1 = plt.axes([0.1, 0.2, 0.8, 0.05], facecolor='lightgrey')\n",
    "ax_slider2 = plt.axes([0.1, 0.1, 0.8, 0.05], facecolor='lightgrey')\n",
    "slider1 = Slider(ax_slider1, 'theta1', -720, 720, valinit=theta1)\n",
    "slider2 = Slider(ax_slider2, 'theta2', -720, 720, valinit=theta2)\n",
    "slider1.on_changed(update_plot)\n",
    "slider2.on_changed(update_plot)\n",
    "\n",
    "plt.show()"
   ]
  },
  {
   "cell_type": "code",
   "execution_count": null,
   "metadata": {},
   "outputs": [],
   "source": [
    "circ2"
   ]
  },
  {
   "cell_type": "code",
   "execution_count": null,
   "metadata": {},
   "outputs": [],
   "source": [
    "%load_ext autoreload\n",
    "%autoreload 2\n",
    "# %load_ext wurlitzer\n",
    "%matplotlib ipympl\n",
    "\n",
    "import numpy as np\n",
    "import xobjects as xo\n",
    "\n",
    "import xcoll as xc\n",
    "from xcoll.geometry.segments import get_max_crossings\n",
    "from xcoll.geometry.trajectories import DriftTrajectory\n",
    "\n",
    "import matplotlib.pyplot as plt\n",
    "from ipywidgets import interact, interactive, fixed, interact_manual\n",
    "import ipywidgets as widgets"
   ]
  },
  {
   "cell_type": "code",
   "execution_count": null,
   "metadata": {},
   "outputs": [],
   "source": [
    "def check_drift(shape, plot_object=False, xlim=(-0.5, 1.5), ylim=(-0.5, 1.5)):\n",
    "    to_remove = []\n",
    "    s_val = np.linspace(*xlim, 200)\n",
    "    fig, ax = plt.subplots(1, 1, figsize=(8,8))\n",
    "    if plot_object:\n",
    "        shape.plot(axes=ax)\n",
    "    ax.set_xlim(xlim)\n",
    "    ax.set_ylim(ylim)\n",
    "    ax.set_aspect('equal')\n",
    "\n",
    "    n_hit = np.zeros(1, dtype=np.int8)\n",
    "    s = np.zeros(get_max_crossings(shape, DriftTrajectory), dtype=np.float64)\n",
    "    # s = np.zeros(8, dtype=np.float64)\n",
    "\n",
    "    def update_plot(s0, x0, part_theta):\n",
    "        # Clean the previous trajectory and points\n",
    "        while to_remove:\n",
    "            last_point = to_remove.pop()  # Get the last added point\n",
    "            last_point.remove()\n",
    "        m = np.tan(np.radians(part_theta))\n",
    "        # Draw drift trajectory and point\n",
    "        spread = 10 # degrees\n",
    "        line, = ax.plot(s_val, m*(s_val - s0) + x0, c='k')\n",
    "        to_remove.append(line)\n",
    "        scatter = ax.scatter(s0, x0, c='r', s=20)\n",
    "        to_remove.append(scatter)\n",
    "        m1 = np.tan(np.radians(part_theta+spread))\n",
    "        m2 = np.tan(np.radians(part_theta-spread))\n",
    "        line = ax.fill_between(s_val, m1*(s_val - s0) + x0, m2*(s_val - s0) + x0, alpha=0.2)\n",
    "        to_remove.append(line)\n",
    "        # Create hits for different slopes (small cone around the trajectory)\n",
    "        hits_s = []\n",
    "        hits_x = []\n",
    "        for sp in np.linspace(-spread, spread, 100):\n",
    "            n_hit[0] = 0\n",
    "            m = np.tan(np.radians(part_theta + sp))\n",
    "            if isinstance(shape, xc.Shape2DV):\n",
    "                shape.crossing_drift(n_hit=n_hit, s=s, s0=s0, x0=x0, xm=m, y0=0, ym=0)\n",
    "            else:\n",
    "                shape.crossing_drift(n_hit=n_hit, s=s, s0=s0, x0=x0, xm=m)\n",
    "            hits_s += list(s[:n_hit[0]])\n",
    "            hits_x += list(x0 + m*(s[:n_hit[0]] - s0))\n",
    "        # for i in range(n_hit[0]):\n",
    "        scatter = ax.scatter(hits_s, hits_x, c='g', s=5)\n",
    "        # to_remove.append(scatter)\n",
    "        fig.canvas.draw()  # Redraw the canvas to show the new point\n",
    "\n",
    "\n",
    "    def onclick(event):\n",
    "        s0, x0 = event.xdata, event.ydata\n",
    "        if s0 is not None and x0 is not None:  # Ensure the click is inside the plot\n",
    "            update_plot(s0, x0, part_theta_slider.value)\n",
    "\n",
    "\n",
    "    fig.canvas.mpl_connect('button_press_event', onclick)\n",
    "    part_theta_slider = widgets.IntSlider(min=-89, max=89, step=1, value=0)\n",
    "\n",
    "    @interact(part_theta=part_theta_slider)\n",
    "    def check_linesegments(part_theta):\n",
    "        if to_remove:\n",
    "            scatter = to_remove[1]  # The second point is the clicked scatter point\n",
    "            s0, x0 = scatter.get_offsets()[0, 0], scatter.get_offsets()[0, 1]\n",
    "\n",
    "            # Update the plot with the new slope based on the slider\n",
    "            update_plot(s0, x0, part_theta)"
   ]
  },
  {
   "cell_type": "code",
   "execution_count": null,
   "metadata": {},
   "outputs": [],
   "source": [
    "shape1 = xc.Shape2D([xc.LineSegment(s1=0, x1=0, s2=0.2, x2=1), xc.LineSegment(s1=0.2, x1=1, s2=1, x2=1),\n",
    "                     xc.LineSegment(s1=1, x1=1, s2=0.8, x2=0), xc.LineSegment(s1=0.8, x1=0, s2=0, x2=0)])\n",
    "shape2 = xc.Shape2D([xc.LineSegment(s1=0, x1=0, s2=0.2, x2=1),\n",
    "                     xc.BezierSegment(s1=0.2, x1=1, s2=1+0.5*np.cos(3*np.pi/4), x2=0.5+0.5*np.sin(3*np.pi/4), cs1=0.5, cx1=2.5, cs2=1+0.5*np.cos(3*np.pi/4)-0.6, cx2=0.5+0.5*np.sin(3*np.pi/4)-0.6),\n",
    "                     xc.CircularSegment(R=0.5, s=1, x=0.5, t1=-np.pi/2, t2=3*np.pi/4),\n",
    "                     xc.LineSegment(s1=1, x1=0, s2=0, x2=0),\n",
    "                     xc.HalfOpenLineSegment(s=2, x=1, t=np.pi/4),\n",
    "                     xc.LineSegment(s1=2, x1=1, s2=3, x2=0),\n",
    "                     xc.HalfOpenLineSegment(s=3, x=0, t=np.pi/4)])\n",
    "shape3 = xc.Shape2DV([xc.LineSegment(s1=0, x1=0, s2=0.2, x2=1),\n",
    "                      xc.BezierSegment(s1=0.2, x1=1, s2=1+0.5*np.cos(3*np.pi/4), x2=0.5+0.5*np.sin(3*np.pi/4), cs1=0.5, cx1=2.5, cs2=1+0.5*np.cos(3*np.pi/4)-0.6, cx2=0.5+0.5*np.sin(3*np.pi/4)-0.6),\n",
    "                      xc.CircularSegment(R=0.5, s=1, x=0.5, t1=-np.pi/2, t2=3*np.pi/4),\n",
    "                      xc.LineSegment(s1=1, x1=0, s2=0, x2=0),\n",
    "                      xc.HalfOpenLineSegment(s=2, x=1, t=np.pi/4),\n",
    "                      xc.LineSegment(s1=2, x1=1, s2=3, x2=0),\n",
    "                      xc.HalfOpenLineSegment(s=3, x=0, t=np.pi/4),\n",
    "                      xc.HalfOpenLineSegment(s=1.8, x=-0.5, t=5*np.pi/8),\n",
    "                      xc.CircularSegment(R=0.3, s=1.8-0.3*np.cos(np.pi/8), x=-0.5-0.3*np.sin(np.pi/8), t1=-7*np.pi/8, t2=np.pi/8),\n",
    "                      xc.HalfOpenLineSegment(s=1.8-0.6*np.cos(np.pi/8), x=-0.5-0.6*np.sin(np.pi/8), t=5*np.pi/8)],\n",
    "                     vlimit=[-0.1, 0.1])\n",
    "shape4 = xc.Shape2DV([xc.CircularSegment(R=1, s=0, x=0, t1=0, t2=2*np.pi/3),\n",
    "                      xc.CircularSegment(R=1, s=0, x=0, t1=2*np.pi/3, t2=4*np.pi/3),\n",
    "                      xc.CircularSegment(R=1, s=0, x=0, t1=4*np.pi/3, t2=2*np.pi)],\n",
    "                     vlimit=[-0.1, 0.1])\n",
    "R1 = 0.5\n",
    "R2 = 2\n",
    "t = np.arcsin(R1/R2)\n",
    "shape5 = xc.Shape2D([xc.CircularSegment(R=R1, s=0, x=0, t1=np.pi/2, t2=-np.pi/2),\n",
    "                     xc.CircularSegment(R=R2, s=-R2*np.cos(t), x=0, t1=-t, t2=t)])\n",
    "shape6 = xc.Shape2D([xc.HalfOpenLineSegment(s=0, x=0, t=np.pi/4),\n",
    "                     xc.HalfOpenLineSegment(s=0, x=0, t=-np.pi/4)])"
   ]
  },
  {
   "cell_type": "code",
   "execution_count": null,
   "metadata": {},
   "outputs": [],
   "source": [
    "#This is meant to fail\n",
    "\n",
    "xc.Shape2D([xc.LineSegment(s1=0, x1=0, s2=0.2, x2=1), xc.LineSegment(s1=0.2, x1=1, s2=1, x2=1), xc.LineSegment(s1=0.2, x1=1, s2=1, x2=1),\n",
    "            xc.LineSegment(s1=1, x1=1, s2=0.8, x2=0), xc.LineSegment(s1=0.8, x1=0, s2=0, x2=0)]).get_vertices()"
   ]
  },
  {
   "cell_type": "code",
   "execution_count": null,
   "metadata": {},
   "outputs": [],
   "source": [
    "fig, _ = shape1.plot3d(); fig.show()\n",
    "fig, _ = shape2.plot3d(); fig.show()\n",
    "fig, _ = shape3.plot3d(); fig.show()\n",
    "fig, _ = shape4.plot3d(); fig.show()\n",
    "fig, _ = shape5.plot3d(); fig.show()\n",
    "fig, _ = shape6.plot3d(); fig.show()"
   ]
  },
  {
   "cell_type": "code",
   "execution_count": null,
   "metadata": {},
   "outputs": [],
   "source": [
    "shape_1 = xc.Shape2D([xc.LineSegment(s1=0, x1=0, s2=0.2, x2=1), xc.LineSegment(s1=0.2, x1=1, s2=1, x2=1),\n",
    "                     xc.LineSegment(s1=1, x1=1, s2=0.8, x2=0), xc.LineSegment(s1=0.8, x1=0, s2=0, x2=0)])\n",
    "\n",
    "check_drift(shape_1, plot_object=False)"
   ]
  },
  {
   "cell_type": "code",
   "execution_count": null,
   "metadata": {},
   "outputs": [],
   "source": [
    "shape_2 = xc.Shape2D([xc.LineSegment(s1=0, x1=0, s2=0.2, x2=1),\n",
    "                     xc.BezierSegment(s1=0.2, x1=1, s2=1+0.5*np.cos(3*np.pi/4), x2=0.5+0.5*np.sin(3*np.pi/4), cs1=0.5, cx1=2.5, cs2=1+0.5*np.cos(3*np.pi/4)-0.6, cx2=0.5+0.5*np.sin(3*np.pi/4)-0.6),\n",
    "                     xc.CircularSegment(R=0.5, s=1, x=0.5, t1=-np.pi/2, t2=3*np.pi/4),\n",
    "                     xc.LineSegment(s1=1, x1=0, s2=0, x2=0),\n",
    "                     xc.HalfOpenLineSegment(s=2, x=1, t=np.pi/4),\n",
    "                     xc.LineSegment(s1=2, x1=1, s2=3, x2=0),\n",
    "                     xc.HalfOpenLineSegment(s=3, x=0, t=np.pi/4)])\n",
    "check_drift(shape_2, xlim=(-0.5, 4), ylim=(-0.5,2), plot_object=True)"
   ]
  },
  {
   "cell_type": "code",
   "execution_count": null,
   "metadata": {},
   "outputs": [],
   "source": [
    "# seg = xc.CircularSegment(R=1, s=0., x=0., t1=0,        t2=np.pi/2)\n",
    "# seg = xc.CircularSegment(R=1, s=0., x=0., t1=-np.pi/2, t2=np.pi/2)\n",
    "# seg = xc.CircularSegment(R=1, s=0., x=0., t1=np.pi/2,  t2=-np.pi/2)\n",
    "# seg = xc.CircularSegment(R=1, s=0., x=0., t1=0,        t2=3*np.pi/2)\n",
    "# seg = xc.CircularSegment(R=1, s=0., x=0., t1=0,        t2=2*np.pi)\n",
    "# seg = xc.CircularSegment(R=1, s=0., x=0., t1=0,        t2=-np.pi/2)\n",
    "# seg = xc.CircularSegment(R=1, s=0., x=0., t1=-np.pi/2, t2=0)\n",
    "seg = xc.CircularSegment(R=1, s=0., x=0., t1=3*np.pi/2,t2=0)\n",
    "\n",
    "check_drift(xc.Shape2D([seg]), plot_object=True, xlim=(-1.5, 1.5), ylim=(-1.5, 1.5))"
   ]
  },
  {
   "cell_type": "code",
   "execution_count": null,
   "metadata": {},
   "outputs": [],
   "source": [
    "shape_3 = xc.Shape2DV([xc.LineSegment(s1=0, x1=0, s2=0.2, x2=1),\n",
    "                      xc.BezierSegment(s1=0.2, x1=1, s2=1+0.5*np.cos(3*np.pi/4), x2=0.5+0.5*np.sin(3*np.pi/4), cs1=0.5, cx1=2.5, cs2=1+0.5*np.cos(3*np.pi/4)-0.6, cx2=0.5+0.5*np.sin(3*np.pi/4)-0.6),\n",
    "                      xc.CircularSegment(R=0.5, s=1, x=0.5, t1=-np.pi/2, t2=3*np.pi/4),\n",
    "                      xc.LineSegment(s1=1, x1=0, s2=0, x2=0),\n",
    "                      xc.HalfOpenLineSegment(s=2, x=1, t=np.pi/4),\n",
    "                      xc.LineSegment(s1=2, x1=1, s2=3, x2=0),\n",
    "                      xc.HalfOpenLineSegment(s=3, x=0, t=np.pi/4)],\n",
    "                    vlimit=[-0.1, 0.1])\n",
    "check_drift(shape_3, xlim=(-0.5, 4), ylim=(-0.5,2), plot_object=True)"
   ]
  }
 ],
 "metadata": {
  "kernelspec": {
   "display_name": "xsuite",
   "language": "python",
   "name": "python3"
  },
  "language_info": {
   "codemirror_mode": {
    "name": "ipython",
    "version": 3
   },
   "file_extension": ".py",
   "mimetype": "text/x-python",
   "name": "python",
   "nbconvert_exporter": "python",
   "pygments_lexer": "ipython3",
   "version": "3.11.9"
  }
 },
 "nbformat": 4,
 "nbformat_minor": 2
}
